{
 "cells": [
  {
   "cell_type": "code",
   "execution_count": 13,
   "metadata": {},
   "outputs": [],
   "source": [
    "import pandas as pd\n",
    "from sqlalchemy import create_engine"
   ]
  },
  {
   "cell_type": "code",
   "execution_count": 14,
   "metadata": {},
   "outputs": [],
   "source": [
    "# Hide warning messages in notebook\n",
    "import warnings\n",
    "warnings.filterwarnings('ignore')\n",
    "\n",
    "# Read to Load (Remember to Change These)\n",
    "west = pd.read_csv(\"west.csv\")\n",
    "northeast = pd.read_csv(\"northeast.csv\")\n",
    "southeast = pd.read_csv(\"southeast.csv\")"
   ]
  },
  {
   "cell_type": "code",
   "execution_count": 15,
   "metadata": {},
   "outputs": [
    {
     "data": {
      "text/plain": [
       "['Region', 'Date', 'PCP', 'TAVG', 'PDSI', 'PHDI', 'TMIN', 'TMAX']"
      ]
     },
     "execution_count": 15,
     "metadata": {},
     "output_type": "execute_result"
    }
   ],
   "source": [
    "list(west.columns)"
   ]
  },
  {
   "cell_type": "code",
   "execution_count": 16,
   "metadata": {},
   "outputs": [
    {
     "data": {
      "text/plain": [
       "['Region', 'Date', 'PCP', 'TAVG', 'PDSI', 'PHDI', 'TMIN', 'TMAX']"
      ]
     },
     "execution_count": 16,
     "metadata": {},
     "output_type": "execute_result"
    }
   ],
   "source": [
    "list(northeast.columns)"
   ]
  },
  {
   "cell_type": "code",
   "execution_count": 17,
   "metadata": {},
   "outputs": [
    {
     "data": {
      "text/plain": [
       "['Region', 'Date', 'PCP', 'TAVG', 'PDSI', 'PHDI', 'TMIN', 'TMAX']"
      ]
     },
     "execution_count": 17,
     "metadata": {},
     "output_type": "execute_result"
    }
   ],
   "source": [
    "list(southeast.columns)"
   ]
  },
  {
   "cell_type": "code",
   "execution_count": 18,
   "metadata": {},
   "outputs": [
    {
     "data": {
      "text/html": [
       "<div>\n",
       "<style scoped>\n",
       "    .dataframe tbody tr th:only-of-type {\n",
       "        vertical-align: middle;\n",
       "    }\n",
       "\n",
       "    .dataframe tbody tr th {\n",
       "        vertical-align: top;\n",
       "    }\n",
       "\n",
       "    .dataframe thead th {\n",
       "        text-align: right;\n",
       "    }\n",
       "</style>\n",
       "<table border=\"1\" class=\"dataframe\">\n",
       "  <thead>\n",
       "    <tr style=\"text-align: right;\">\n",
       "      <th></th>\n",
       "      <th>Region</th>\n",
       "      <th>Date</th>\n",
       "      <th>PCP</th>\n",
       "      <th>TAVG</th>\n",
       "      <th>PDSI</th>\n",
       "      <th>PHDI</th>\n",
       "      <th>TMIN</th>\n",
       "      <th>TMAX</th>\n",
       "    </tr>\n",
       "  </thead>\n",
       "  <tbody>\n",
       "    <tr>\n",
       "      <th>0</th>\n",
       "      <td>West</td>\n",
       "      <td>2014-01</td>\n",
       "      <td>0.53</td>\n",
       "      <td>44.8</td>\n",
       "      <td>-6.13</td>\n",
       "      <td>-6.13</td>\n",
       "      <td>31.9</td>\n",
       "      <td>57.6</td>\n",
       "    </tr>\n",
       "    <tr>\n",
       "      <th>1</th>\n",
       "      <td>West</td>\n",
       "      <td>2014-02</td>\n",
       "      <td>2.86</td>\n",
       "      <td>45.4</td>\n",
       "      <td>-6.36</td>\n",
       "      <td>-6.36</td>\n",
       "      <td>34.4</td>\n",
       "      <td>56.5</td>\n",
       "    </tr>\n",
       "    <tr>\n",
       "      <th>2</th>\n",
       "      <td>West</td>\n",
       "      <td>2014-03</td>\n",
       "      <td>2.35</td>\n",
       "      <td>49.3</td>\n",
       "      <td>-6.46</td>\n",
       "      <td>-6.46</td>\n",
       "      <td>37.0</td>\n",
       "      <td>61.6</td>\n",
       "    </tr>\n",
       "    <tr>\n",
       "      <th>3</th>\n",
       "      <td>West</td>\n",
       "      <td>2014-04</td>\n",
       "      <td>0.90</td>\n",
       "      <td>54.1</td>\n",
       "      <td>-6.43</td>\n",
       "      <td>-6.43</td>\n",
       "      <td>40.4</td>\n",
       "      <td>67.8</td>\n",
       "    </tr>\n",
       "    <tr>\n",
       "      <th>4</th>\n",
       "      <td>West</td>\n",
       "      <td>2014-05</td>\n",
       "      <td>0.54</td>\n",
       "      <td>61.6</td>\n",
       "      <td>-7.13</td>\n",
       "      <td>-7.13</td>\n",
       "      <td>47.2</td>\n",
       "      <td>76.1</td>\n",
       "    </tr>\n",
       "    <tr>\n",
       "      <th>5</th>\n",
       "      <td>West</td>\n",
       "      <td>2014-06</td>\n",
       "      <td>0.08</td>\n",
       "      <td>69.8</td>\n",
       "      <td>-8.10</td>\n",
       "      <td>-8.10</td>\n",
       "      <td>54.1</td>\n",
       "      <td>85.4</td>\n",
       "    </tr>\n",
       "    <tr>\n",
       "      <th>6</th>\n",
       "      <td>West</td>\n",
       "      <td>2014-07</td>\n",
       "      <td>0.45</td>\n",
       "      <td>77.4</td>\n",
       "      <td>-8.36</td>\n",
       "      <td>-8.36</td>\n",
       "      <td>62.6</td>\n",
       "      <td>92.2</td>\n",
       "    </tr>\n",
       "    <tr>\n",
       "      <th>7</th>\n",
       "      <td>West</td>\n",
       "      <td>2014-08</td>\n",
       "      <td>0.88</td>\n",
       "      <td>72.7</td>\n",
       "      <td>-7.27</td>\n",
       "      <td>-7.27</td>\n",
       "      <td>58.6</td>\n",
       "      <td>86.8</td>\n",
       "    </tr>\n",
       "    <tr>\n",
       "      <th>8</th>\n",
       "      <td>West</td>\n",
       "      <td>2014-09</td>\n",
       "      <td>0.91</td>\n",
       "      <td>69.5</td>\n",
       "      <td>-6.22</td>\n",
       "      <td>-6.22</td>\n",
       "      <td>55.1</td>\n",
       "      <td>83.8</td>\n",
       "    </tr>\n",
       "    <tr>\n",
       "      <th>9</th>\n",
       "      <td>West</td>\n",
       "      <td>2014-10</td>\n",
       "      <td>0.67</td>\n",
       "      <td>60.7</td>\n",
       "      <td>-6.09</td>\n",
       "      <td>-6.09</td>\n",
       "      <td>46.4</td>\n",
       "      <td>75.0</td>\n",
       "    </tr>\n",
       "  </tbody>\n",
       "</table>\n",
       "</div>"
      ],
      "text/plain": [
       "  Region     Date   PCP  TAVG  PDSI  PHDI  TMIN  TMAX\n",
       "0   West  2014-01  0.53  44.8 -6.13 -6.13  31.9  57.6\n",
       "1   West  2014-02  2.86  45.4 -6.36 -6.36  34.4  56.5\n",
       "2   West  2014-03  2.35  49.3 -6.46 -6.46  37.0  61.6\n",
       "3   West  2014-04  0.90  54.1 -6.43 -6.43  40.4  67.8\n",
       "4   West  2014-05  0.54  61.6 -7.13 -7.13  47.2  76.1\n",
       "5   West  2014-06  0.08  69.8 -8.10 -8.10  54.1  85.4\n",
       "6   West  2014-07  0.45  77.4 -8.36 -8.36  62.6  92.2\n",
       "7   West  2014-08  0.88  72.7 -7.27 -7.27  58.6  86.8\n",
       "8   West  2014-09  0.91  69.5 -6.22 -6.22  55.1  83.8\n",
       "9   West  2014-10  0.67  60.7 -6.09 -6.09  46.4  75.0"
      ]
     },
     "execution_count": 18,
     "metadata": {},
     "output_type": "execute_result"
    }
   ],
   "source": [
    "# Combine the data into a single dataset\n",
    "\n",
    "combined_df = pd.concat([west, northeast])\n",
    "# Display the data table for preview\n",
    "\n",
    "combined_df.head(10)"
   ]
  },
  {
   "cell_type": "code",
   "execution_count": 19,
   "metadata": {},
   "outputs": [
    {
     "data": {
      "text/plain": [
       "array(['West', 'Northeast', 'SouthEast'], dtype=object)"
      ]
     },
     "execution_count": 19,
     "metadata": {},
     "output_type": "execute_result"
    }
   ],
   "source": [
    "combined = pd.concat([combined_df, southeast])\n",
    "combined['Region'].unique()"
   ]
  },
  {
   "cell_type": "code",
   "execution_count": 21,
   "metadata": {},
   "outputs": [],
   "source": [
    "combined.to_csv('final.csv', index=False)"
   ]
  },
  {
   "cell_type": "code",
   "execution_count": 22,
   "metadata": {},
   "outputs": [],
   "source": [
    "engine = create_engine('sqlite:///../db/combined.sqlite', echo=False)"
   ]
  },
  {
   "cell_type": "code",
   "execution_count": null,
   "metadata": {},
   "outputs": [],
   "source": []
  }
 ],
 "metadata": {
  "kernelspec": {
   "display_name": "Python 3",
   "language": "python",
   "name": "python3"
  },
  "language_info": {
   "codemirror_mode": {
    "name": "ipython",
    "version": 3
   },
   "file_extension": ".py",
   "mimetype": "text/x-python",
   "name": "python",
   "nbconvert_exporter": "python",
   "pygments_lexer": "ipython3",
   "version": "3.7.4"
  }
 },
 "nbformat": 4,
 "nbformat_minor": 2
}
